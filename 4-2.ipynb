{
  "cells": [
    {
      "cell_type": "markdown",
      "metadata": {
        "id": "view-in-github",
        "colab_type": "text"
      },
      "source": [
        "<a href=\"https://colab.research.google.com/github/reasonj11/Machine-learning/blob/main/4-2.ipynb\" target=\"_parent\"><img src=\"https://colab.research.google.com/assets/colab-badge.svg\" alt=\"Open In Colab\"/></a>"
      ]
    },
    {
      "cell_type": "code",
      "source": [
        " from sklearn import datasets\n",
        " from sklearn import tree\n",
        " from sklearn.neighbors import KNeighborsClassifier\n",
        " from sklearn.svm import SVC\n",
        " from sklearn.ensemble import VotingClassifier\n",
        " from sklearn.model_selection import train_test_split\n",
        " from sklearn.metrics import accuracy_score\n",
        " import numpy as np\n",
        " import matplotlib.pyplot as plt"
      ],
      "metadata": {
        "id": "IkwijmxJ_t6h"
      },
      "execution_count": 15,
      "outputs": []
    },
    {
      "cell_type": "code",
      "source": [
        "np.random.seed(5)\n",
        "mnist= datasets.load_digits()\n",
        "features, labels = mnist.data, mnist.target\n",
        "X_train,X_test,y_train,y_test=train_test_split(features,labels,\n",
        "                                              test_size=0.2)"
      ],
      "metadata": {
        "id": "YD-2B-LcAEht"
      },
      "execution_count": 16,
      "outputs": []
    },
    {
      "cell_type": "code",
      "source": [
        "dtree= tree.DecisionTreeClassifier(\n",
        "criterion=\"gini\", max_depth=8, max_features=32)\n",
        "\n",
        "dtree= dtree.fit(X_train, y_train)\n",
        "dtree_predicted= dtree.predict(X_test)\n",
        "\n",
        "knn= KNeighborsClassifier(n_neighbors=299).fit(X_train, y_train)\n",
        "knn_predicted= knn.predict(X_test)\n",
        "\n",
        "svm= SVC(C=0.1, gamma=0.003,\n",
        "probability=True).fit(X_train, y_train)\n",
        "svm_predicted= svm.predict(X_test)"
      ],
      "metadata": {
        "id": "k9imEeP2AL0n"
      },
      "execution_count": 17,
      "outputs": []
    },
    {
      "cell_type": "code",
      "source": [
        "print(\"[accuarcy]\")\n",
        "print(\"d-tree: \", accuracy_score(y_test, dtree_predicted))\n",
        "print(\"knn : \", accuracy_score(y_test, knn_predicted))\n",
        "print(\"svm : \", accuracy_score(y_test, svm_predicted))"
      ],
      "metadata": {
        "id": "XXjI-05pARyu",
        "outputId": "35aa29a7-ba55-40fb-ed40-9efba3c01768",
        "colab": {
          "base_uri": "https://localhost:8080/"
        }
      },
      "execution_count": 18,
      "outputs": [
        {
          "output_type": "stream",
          "name": "stdout",
          "text": [
            "[accuarcy]\n",
            "d-tree:  0.7916666666666666\n",
            "knn :  0.8944444444444445\n",
            "svm :  0.8916666666666667\n"
          ]
        }
      ]
    },
    {
      "cell_type": "code",
      "source": [
        "svm_proba= svm.predict_proba(X_test)\n",
        "print(svm_proba[0:2])"
      ],
      "metadata": {
        "id": "ETDsyERYAaKL",
        "outputId": "e0a86201-0fc6-4c79-8212-5ed247f6f5a4",
        "colab": {
          "base_uri": "https://localhost:8080/"
        }
      },
      "execution_count": 19,
      "outputs": [
        {
          "output_type": "stream",
          "name": "stdout",
          "text": [
            "[[0.0020036  0.00913495 0.00860886 0.00431856 0.0047931  0.8975483\n",
            "  0.0019513  0.01046554 0.04855539 0.0126204 ]\n",
            " [0.00290208 0.01165787 0.86869732 0.00809384 0.00503728 0.01857273\n",
            "  0.00301187 0.00945009 0.05716773 0.0154092 ]]\n"
          ]
        }
      ]
    },
    {
      "cell_type": "code",
      "source": [
        "voting_model = VotingClassifier(estimators=[\n",
        "    ('Decision_Tree', dtree), ('k-NN', knn), ('SVM', svm)],\n",
        "    weights=[1,1,1], voting='hard')\n",
        "voting_model.fit(X_train, y_train)\n",
        "hard_voting_predicted = voting_model.predict(X_test)\n",
        "accuracy_score(y_test, hard_voting_predicted)"
      ],
      "metadata": {
        "id": "hR4D3Kb3Abvk",
        "outputId": "df21cae6-fcb2-4f17-b8c2-04f0372ab32d",
        "colab": {
          "base_uri": "https://localhost:8080/"
        }
      },
      "execution_count": 22,
      "outputs": [
        {
          "output_type": "execute_result",
          "data": {
            "text/plain": [
              "0.9277777777777778"
            ]
          },
          "metadata": {},
          "execution_count": 22
        }
      ]
    },
    {
      "cell_type": "code",
      "source": [
        "voting_model = VotingClassifier(estimators=[\n",
        "    ('Decision_Tree', dtree), ('k-NN', knn), ('SVM', svm)],\n",
        "    weights=[1,1,1], voting='soft')\n",
        "voting_model.fit(X_train, y_train)\n",
        "soft_voting_predicted = voting_model.predict(X_test)\n",
        "accuracy_score(y_test, soft_voting_predicted)"
      ],
      "metadata": {
        "id": "SXDZhgEZAkFe",
        "outputId": "52729cd6-5351-4993-bb23-a8d5a002391c",
        "colab": {
          "base_uri": "https://localhost:8080/"
        }
      },
      "execution_count": 24,
      "outputs": [
        {
          "output_type": "execute_result",
          "data": {
            "text/plain": [
              "0.9"
            ]
          },
          "metadata": {},
          "execution_count": 24
        }
      ]
    },
    {
      "cell_type": "code",
      "source": [
        "x = np.arange(5)\n",
        "plt.bar(x, height= [accuracy_score(y_test, dtree_predicted),\n",
        "                    accuracy_score(y_test, knn_predicted),\n",
        "                    accuracy_score(y_test, svm_predicted),\n",
        "                    accuracy_score(y_test, hard_voting_predicted),\n",
        "                    accuracy_score(y_test, soft_voting_predicted)])\n",
        "plt.xticks(x, ['decision tree','knn','svm','hard voting','softvoting']);"
      ],
      "metadata": {
        "id": "TRj-CB2XAp9a",
        "outputId": "58eefec5-ad82-4f72-988c-67c72093a502",
        "colab": {
          "base_uri": "https://localhost:8080/",
          "height": 430
        }
      },
      "execution_count": 26,
      "outputs": [
        {
          "output_type": "display_data",
          "data": {
            "text/plain": [
              "<Figure size 640x480 with 1 Axes>"
            ],
            "image/png": "[encoded data removed]"
          },
          "metadata": {}
        }
      ]
    }
  ],
  "metadata": {
    "colab": {
      "name": "Colaboratory에 오신 것을 환영합니다",
      "provenance": [],
      "include_colab_link": true
    },
    "kernelspec": {
      "display_name": "Python 3",
      "name": "python3"
    }
  },
  "nbformat": 4,
  "nbformat_minor": 0
}