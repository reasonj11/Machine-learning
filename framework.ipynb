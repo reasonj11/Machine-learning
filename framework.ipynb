{
  "cells": [
    {
      "cell_type": "markdown",
      "metadata": {
        "id": "view-in-github",
        "colab_type": "text"
      },
      "source": [
        "<a href=\"https://colab.research.google.com/github/reasonj11/Machine-learning/blob/main/framework.ipynb\" target=\"_parent\"><img src=\"https://colab.research.google.com/assets/colab-badge.svg\" alt=\"Open In Colab\"/></a>"
      ]
    },
    {
      "cell_type": "code",
      "source": [
        "text = \"\"\"Hello, this is a sample text for Hadoop MapReduce WordCount example. In this example, we will demonstrate how to count the occurrences of each word in this text using Hadoop MapReduce.\"\"\""
      ],
      "metadata": {
        "id": "bqBuluhkDbSR"
      },
      "execution_count": 23,
      "outputs": []
    },
    {
      "cell_type": "code",
      "source": [
        "def mapper(text):\n",
        "    words = text.split()\n",
        "    word_count_pairs = []\n",
        "    for word in words:\n",
        "        word_count_pairs.append((word.lower(), 1))  # 모든 단어를 소문자로 처리\n",
        "    return word_count_pairs"
      ],
      "metadata": {
        "id": "PXP8sibBDiBQ"
      },
      "execution_count": 24,
      "outputs": []
    },
    {
      "cell_type": "code",
      "source": [
        "mapped_data = mapper(text)\n",
        "print(mapped_data)"
      ],
      "metadata": {
        "id": "VoQ1rkVyDjOn",
        "outputId": "6fe00c7b-c1f8-4bd9-9b88-8eebe5260be2",
        "colab": {
          "base_uri": "https://localhost:8080/"
        }
      },
      "execution_count": 25,
      "outputs": [
        {
          "output_type": "stream",
          "name": "stdout",
          "text": [
            "[('hello,', 1), ('this', 1), ('is', 1), ('a', 1), ('sample', 1), ('text', 1), ('for', 1), ('hadoop', 1), ('mapreduce', 1), ('wordcount', 1), ('example.', 1), ('in', 1), ('this', 1), ('example,', 1), ('we', 1), ('will', 1), ('demonstrate', 1), ('how', 1), ('to', 1), ('count', 1), ('the', 1), ('occurrences', 1), ('of', 1), ('each', 1), ('word', 1), ('in', 1), ('this', 1), ('text', 1), ('using', 1), ('hadoop', 1), ('mapreduce.', 1)]\n"
          ]
        }
      ]
    },
    {
      "cell_type": "code",
      "source": [
        "from collections import defaultdict"
      ],
      "metadata": {
        "id": "aB-MVJIIDnfg"
      },
      "execution_count": 26,
      "outputs": []
    },
    {
      "cell_type": "code",
      "source": [
        "def reducer(mapped_data):\n",
        "    word_count = defaultdict(int)\n",
        "    for word, count in mapped_data:\n",
        "        word_count[word] += count\n",
        "    return word_count"
      ],
      "metadata": {
        "id": "Oap-L-MODpiy"
      },
      "execution_count": 27,
      "outputs": []
    },
    {
      "cell_type": "code",
      "source": [
        "reduced_data = reducer(mapped_data)\n",
        "print(reduced_data)"
      ],
      "metadata": {
        "id": "ALN6O1JODrCG",
        "outputId": "98511834-8709-4fce-922d-53305a6ce0b4",
        "colab": {
          "base_uri": "https://localhost:8080/"
        }
      },
      "execution_count": 28,
      "outputs": [
        {
          "output_type": "stream",
          "name": "stdout",
          "text": [
            "defaultdict(<class 'int'>, {'hello,': 1, 'this': 3, 'is': 1, 'a': 1, 'sample': 1, 'text': 2, 'for': 1, 'hadoop': 2, 'mapreduce': 1, 'wordcount': 1, 'example.': 1, 'in': 2, 'example,': 1, 'we': 1, 'will': 1, 'demonstrate': 1, 'how': 1, 'to': 1, 'count': 1, 'the': 1, 'occurrences': 1, 'of': 1, 'each': 1, 'word': 1, 'using': 1, 'mapreduce.': 1})\n"
          ]
        }
      ]
    },
    {
      "cell_type": "code",
      "source": [
        "sorted_word_count = sorted(reduced_data.items(), key=lambda x: x[0])\n",
        "\n",
        "for word, count in sorted_word_count:\n",
        "    print(f'{word}: {count}')"
      ],
      "metadata": {
        "id": "oFAdTiliDtmM",
        "outputId": "ed54cb6a-bd3d-4eb7-dd3f-b5a50b3ec6e5",
        "colab": {
          "base_uri": "https://localhost:8080/"
        }
      },
      "execution_count": 29,
      "outputs": [
        {
          "output_type": "stream",
          "name": "stdout",
          "text": [
            "a: 1\n",
            "count: 1\n",
            "demonstrate: 1\n",
            "each: 1\n",
            "example,: 1\n",
            "example.: 1\n",
            "for: 1\n",
            "hadoop: 2\n",
            "hello,: 1\n",
            "how: 1\n",
            "in: 2\n",
            "is: 1\n",
            "mapreduce: 1\n",
            "mapreduce.: 1\n",
            "occurrences: 1\n",
            "of: 1\n",
            "sample: 1\n",
            "text: 2\n",
            "the: 1\n",
            "this: 3\n",
            "to: 1\n",
            "using: 1\n",
            "we: 1\n",
            "will: 1\n",
            "word: 1\n",
            "wordcount: 1\n"
          ]
        }
      ]
    }
  ],
  "metadata": {
    "colab": {
      "name": "Colaboratory에 오신 것을 환영합니다",
      "provenance": [],
      "include_colab_link": true
    },
    "kernelspec": {
      "display_name": "Python 3",
      "name": "python3"
    }
  },
  "nbformat": 4,
  "nbformat_minor": 0
}