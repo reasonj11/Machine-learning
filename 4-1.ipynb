{
  "cells": [
    {
      "cell_type": "markdown",
      "metadata": {
        "id": "view-in-github",
        "colab_type": "text"
      },
      "source": [
        "<a href=\"https://colab.research.google.com/github/reasonj11/Machine-learning/blob/main/4-1.ipynb\" target=\"_parent\"><img src=\"https://colab.research.google.com/assets/colab-badge.svg\" alt=\"Open In Colab\"/></a>"
      ]
    },
    {
      "cell_type": "code",
      "source": [
        " from sklearn.datasets import fetch_openml\n",
        " from sklearn.model_selection import train_test_split\n",
        " from sklearn import tree\n",
        " from sklearn.ensemble import RandomForestClassifier\n",
        " from sklearn.metrics import accuracy_score\n",
        " from sklearn.model_selection import GridSearchCV\n",
        " import matplotlib.pyplot as plt\n",
        " import numpy as np\n",
        " import pandas as pd\n",
        " import seaborn as sns"
      ],
      "metadata": {
        "id": "DGtWC7km7vvC"
      },
      "execution_count": 3,
      "outputs": []
    },
    {
      "cell_type": "code",
      "source": [
        " mnist= fetch_openml('mnist_784')\n",
        " mnist_data= mnist.data[:10000]\n",
        " mnist_target= mnist.target[:10000]\n",
        " print(mnist_data)\n",
        " print(mnist_data.shape)\n",
        " print(mnist_target)\n",
        " print(mnist_target.shape)"
      ],
      "metadata": {
        "id": "BjLk7AFo7ygE",
        "outputId": "f43c0140-185c-447a-a608-b8396d015d13",
        "colab": {
          "base_uri": "https://localhost:8080/"
        }
      },
      "execution_count": 4,
      "outputs": [
        {
          "output_type": "stream",
          "name": "stderr",
          "text": [
            "/usr/local/lib/python3.10/dist-packages/sklearn/datasets/_openml.py:1022: FutureWarning: The default value of `parser` will change from `'liac-arff'` to `'auto'` in 1.4. You can set `parser='auto'` to silence this warning. Therefore, an `ImportError` will be raised from 1.4 if the dataset is dense and pandas is not installed. Note that the pandas parser may return different data types. See the Notes Section in fetch_openml's API doc for details.\n",
            "  warn(\n"
          ]
        },
        {
          "output_type": "stream",
          "name": "stdout",
          "text": [
            "      pixel1  pixel2  pixel3  pixel4  pixel5  pixel6  pixel7  pixel8  pixel9  \\\n",
            "0        0.0     0.0     0.0     0.0     0.0     0.0     0.0     0.0     0.0   \n",
            "1        0.0     0.0     0.0     0.0     0.0     0.0     0.0     0.0     0.0   \n",
            "2        0.0     0.0     0.0     0.0     0.0     0.0     0.0     0.0     0.0   \n",
            "3        0.0     0.0     0.0     0.0     0.0     0.0     0.0     0.0     0.0   \n",
            "4        0.0     0.0     0.0     0.0     0.0     0.0     0.0     0.0     0.0   \n",
            "...      ...     ...     ...     ...     ...     ...     ...     ...     ...   \n",
            "9995     0.0     0.0     0.0     0.0     0.0     0.0     0.0     0.0     0.0   \n",
            "9996     0.0     0.0     0.0     0.0     0.0     0.0     0.0     0.0     0.0   \n",
            "9997     0.0     0.0     0.0     0.0     0.0     0.0     0.0     0.0     0.0   \n",
            "9998     0.0     0.0     0.0     0.0     0.0     0.0     0.0     0.0     0.0   \n",
            "9999     0.0     0.0     0.0     0.0     0.0     0.0     0.0     0.0     0.0   \n",
            "\n",
            "      pixel10  ...  pixel775  pixel776  pixel777  pixel778  pixel779  \\\n",
            "0         0.0  ...       0.0       0.0       0.0       0.0       0.0   \n",
            "1         0.0  ...       0.0       0.0       0.0       0.0       0.0   \n",
            "2         0.0  ...       0.0       0.0       0.0       0.0       0.0   \n",
            "3         0.0  ...       0.0       0.0       0.0       0.0       0.0   \n",
            "4         0.0  ...       0.0       0.0       0.0       0.0       0.0   \n",
            "...       ...  ...       ...       ...       ...       ...       ...   \n",
            "9995      0.0  ...       0.0       0.0       0.0       0.0       0.0   \n",
            "9996      0.0  ...       0.0       0.0       0.0       0.0       0.0   \n",
            "9997      0.0  ...       0.0       0.0       0.0       0.0       0.0   \n",
            "9998      0.0  ...       0.0       0.0       0.0       0.0       0.0   \n",
            "9999      0.0  ...       0.0       0.0       0.0       0.0       0.0   \n",
            "\n",
            "      pixel780  pixel781  pixel782  pixel783  pixel784  \n",
            "0          0.0       0.0       0.0       0.0       0.0  \n",
            "1          0.0       0.0       0.0       0.0       0.0  \n",
            "2          0.0       0.0       0.0       0.0       0.0  \n",
            "3          0.0       0.0       0.0       0.0       0.0  \n",
            "4          0.0       0.0       0.0       0.0       0.0  \n",
            "...        ...       ...       ...       ...       ...  \n",
            "9995       0.0       0.0       0.0       0.0       0.0  \n",
            "9996       0.0       0.0       0.0       0.0       0.0  \n",
            "9997       0.0       0.0       0.0       0.0       0.0  \n",
            "9998       0.0       0.0       0.0       0.0       0.0  \n",
            "9999       0.0       0.0       0.0       0.0       0.0  \n",
            "\n",
            "[10000 rows x 784 columns]\n",
            "(10000, 784)\n",
            "0       5\n",
            "1       0\n",
            "2       4\n",
            "3       1\n",
            "4       9\n",
            "       ..\n",
            "9995    5\n",
            "9996    8\n",
            "9997    6\n",
            "9998    9\n",
            "9999    7\n",
            "Name: class, Length: 10000, dtype: category\n",
            "Categories (10, object): ['0', '1', '2', '3', ..., '6', '7', '8', '9']\n",
            "(10000,)\n"
          ]
        }
      ]
    },
    {
      "cell_type": "code",
      "source": [
        "X_train,X_test,y_train,y_test=train_test_split(mnist.data,\n",
        "                                              mnist.target,\n",
        "                                              test_size=0.2)"
      ],
      "metadata": {
        "id": "HTfM-YI673Wx"
      },
      "execution_count": 5,
      "outputs": []
    },
    {
      "cell_type": "code",
      "source": [
        "dt_clf= tree.DecisionTreeClassifier()\n",
        "rf_clf= RandomForestClassifier()\n",
        "\n",
        "dt_clf.fit(X_train, y_train)\n",
        "rf_clf.fit(X_train, y_train)\n",
        "\n",
        "dt_pred= dt_clf.predict(X_test)\n",
        "rf_pred= rf_clf.predict(X_test)\n",
        "\n",
        "accuracy_dt= accuracy_score(y_test, dt_pred)\n",
        "accuracy_rf= accuracy_score(y_test, rf_pred)"
      ],
      "metadata": {
        "id": "_HF-sejr79pG"
      },
      "execution_count": 7,
      "outputs": []
    },
    {
      "cell_type": "code",
      "source": [
        " print('의사결정트리예측정확도: {0:.4f}'.format(accuracy_dt))\n",
        " print('랜덤포레스트예측정확도: {0:.4f}'.format(accuracy_rf))"
      ],
      "metadata": {
        "id": "5cwVkFuf8BWa",
        "outputId": "7ca9dbf3-3be6-4cb1-805b-142803c3bc99",
        "colab": {
          "base_uri": "https://localhost:8080/"
        }
      },
      "execution_count": 8,
      "outputs": [
        {
          "output_type": "stream",
          "name": "stdout",
          "text": [
            "의사결정트리예측정확도: 0.8751\n",
            "랜덤포레스트예측정확도: 0.9685\n"
          ]
        }
      ]
    },
    {
      "cell_type": "code",
      "source": [
        "print(rf_clf)"
      ],
      "metadata": {
        "id": "jMpOVrnS8DuQ"
      },
      "execution_count": null,
      "outputs": []
    },
    {
      "cell_type": "code",
      "source": [
        " ft_importances_values= rf_clf.feature_importances_\n",
        " ft_importances= pd.Series(ft_importances_values)\n",
        " top10 = ft_importances.sort_values(ascending=False)[:10]\n",
        " plt.figure(figsize=(12,10))\n",
        " plt.title('Feature Importances')\n",
        " sns.barplot(x=top10.index, y=top10)\n",
        " plt.show()"
      ],
      "metadata": {
        "id": "5OZnJ31T8G9A",
        "outputId": "8c7b220c-ed9d-49ba-f3a5-6e0c63a8af2a",
        "colab": {
          "base_uri": "https://localhost:8080/",
          "height": 558
        }
      },
      "execution_count": 10,
      "outputs": [
        {
          "output_type": "display_data",
          "data": {
            "text/plain": [
              "<Figure size 1200x1000 with 1 Axes>"
            ],
            "image/png": "[encoded data removed]"
          },
          "metadata": {}
        }
      ]
    },
    {
      "cell_type": "code",
      "source": [
        "rf_param_grid={\n",
        "    'n_estimators' : [100, 110, 120],\n",
        "    'min_samples_leaf' : [1, 2, 3],\n",
        "    'min_samples_split' : [2, 3, 4]\n",
        "    }\n",
        "rf_clf= RandomForestClassifier(random_state= 0)\n",
        "grid = GridSearchCV(rf_clf, param_grid= rf_param_grid, scoring='accuracy', n_jobs=1)\n",
        "\n",
        "grid.fit(X_train, y_train)"
      ],
      "metadata": {
        "id": "8TVQJ9Ol8JZ1"
      },
      "execution_count": null,
      "outputs": []
    },
    {
      "cell_type": "code",
      "source": [
        "print('최고평균정확도: {0:.4f}'.format(grid.best_score_))\n",
        "print(grid.best_params_)"
      ],
      "metadata": {
        "id": "MyC4KMhj8L_b"
      },
      "execution_count": null,
      "outputs": []
    },
    {
      "cell_type": "code",
      "source": [],
      "metadata": {
        "id": "WUWqqInb8ORz"
      },
      "execution_count": null,
      "outputs": []
    }
  ],
  "metadata": {
    "colab": {
      "name": "Colaboratory에 오신 것을 환영합니다",
      "provenance": [],
      "include_colab_link": true
    },
    "kernelspec": {
      "display_name": "Python 3",
      "name": "python3"
    }
  },
  "nbformat": 4,
  "nbformat_minor": 0
}